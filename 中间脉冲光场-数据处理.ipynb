{
 "cells": [
  {
   "cell_type": "code",
   "execution_count": 1,
   "metadata": {},
   "outputs": [],
   "source": [
    "import numpy as np \n",
    "import matplotlib.pyplot as plt\n",
    "%matplotlib inline\n",
    "import scipy.signal as signal"
   ]
  },
  {
   "cell_type": "code",
   "execution_count": 2,
   "metadata": {},
   "outputs": [],
   "source": [
    "# 读取数据至字典键值对\n",
    "with open('new.txt','r') as f:\n",
    "    data = {}\n",
    "    line = f.readline()\n",
    "    while line:\n",
    "        if line != '\\n':\n",
    "            tmp = list(map(lambda x: float(x), list(line.split())))\n",
    "#             print('test', tmp[1], tmp[3], tmp[4])\n",
    "            if tmp[3] in data:\n",
    "                data[tmp[3]] += tmp[4]\n",
    "            else:\n",
    "                data[tmp[3]] = tmp[4]\n",
    "        line = f.readline()\n",
    "    data[0.0] /= 2  # 与数据结构有关，第一个值重发"
   ]
  },
  {
   "cell_type": "code",
   "execution_count": 3,
   "metadata": {},
   "outputs": [],
   "source": [
    "# 中间变量，用于求极值点\n",
    "x = np.array(list(data.keys()))\n",
    "y = np.array(list(data.values()))"
   ]
  },
  {
   "cell_type": "code",
   "execution_count": 4,
   "metadata": {},
   "outputs": [
    {
     "data": {
      "text/plain": [
       "array([0.05235988, 0.68067841, 1.30899694, 1.93731547, 2.565634  ,\n",
       "       3.19395253, 3.82227106, 4.45058959, 5.07890812, 5.70722665])"
      ]
     },
     "execution_count": 4,
     "metadata": {},
     "output_type": "execute_result"
    }
   ],
   "source": [
    "# 极值点 角度位置，单位弧度\n",
    "dd = x[signal.argrelextrema(y, np.greater)]\n",
    "dd"
   ]
  },
  {
   "cell_type": "code",
   "execution_count": 5,
   "metadata": {},
   "outputs": [],
   "source": [
    "# 极值点间隔，单位 弧度\n",
    "v = np.array([abs(dd[i+1] - dd[i]) for i in range(len(dd)-1)])"
   ]
  },
  {
   "cell_type": "code",
   "execution_count": 6,
   "metadata": {},
   "outputs": [
    {
     "data": {
      "text/plain": [
       "array([0.62831853, 0.62831853, 0.62831853, 0.62831853, 0.62831853,\n",
       "       0.62831853, 0.62831853, 0.62831853, 0.62831853, 0.62831853])"
      ]
     },
     "execution_count": 6,
     "metadata": {},
     "output_type": "execute_result"
    }
   ],
   "source": [
    "# 最后一个间隔数据\n",
    "v = np.append(v, np.pi * 2 - dd[-1] + dd[0])\n",
    "v"
   ]
  },
  {
   "cell_type": "code",
   "execution_count": 7,
   "metadata": {},
   "outputs": [
    {
     "data": {
      "text/plain": [
       "<matplotlib.collections.PathCollection at 0x7f787e02c4e0>"
      ]
     },
     "execution_count": 7,
     "metadata": {},
     "output_type": "execute_result"
    },
    {
     "data": {
      "image/png": "[encoded data removed]",
      "text/plain": [
       "<Figure size 432x288 with 1 Axes>"
      ]
     },
     "metadata": {
      "needs_background": "light"
     },
     "output_type": "display_data"
    }
   ],
   "source": [
    "# 画图，使用角度制\n",
    "plt.scatter(dd*57.3,v*57.3)"
   ]
  }
 ],
 "metadata": {
  "kernelspec": {
   "display_name": "Python [conda env:root] *",
   "language": "python",
   "name": "conda-root-py"
  },
  "language_info": {
   "codemirror_mode": {
    "name": "ipython",
    "version": 3
   },
   "file_extension": ".py",
   "mimetype": "text/x-python",
   "name": "python",
   "nbconvert_exporter": "python",
   "pygments_lexer": "ipython3",
   "version": "3.7.3"
  }
 },
 "nbformat": 4,
 "nbformat_minor": 2
}
